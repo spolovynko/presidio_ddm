{
 "cells": [
  {
   "cell_type": "code",
   "execution_count": 1,
   "metadata": {},
   "outputs": [],
   "source": [
    "import pandas as pd\n",
    "import spacy\n",
    "from itertools import zip_longest\n",
    "import re\n",
    "\n",
    "file_path = r\"C:\\Users\\spolo\\OneDrive\\Documents\\DOC\\Work\\TCS\\Code\\dynamic_data_masking\\presidio_ddm\\deny_list_dataset\\deny_list_tokens_ddm.xlsx\"\n",
    "new_file_path = r\"C:\\Users\\spolo\\OneDrive\\Documents\\DOC\\Work\\TCS\\Code\\dynamic_data_masking\\presidio_ddm\\deny_list_dataset\\deny_list_tokens_c4_v1.xlsx\"\n",
    "\n",
    "df = pd.read_excel(file_path, sheet_name=\"RACE\")\n",
    "\n",
    "nlp = spacy.load(\"fr_core_news_lg\")\n",
    "french_stopwords = nlp.Defaults.stop_words"
   ]
  },
  {
   "cell_type": "code",
   "execution_count": 2,
   "metadata": {},
   "outputs": [],
   "source": [
    "import pandas as pd\n",
    "from itertools import zip_longest\n",
    "\n",
    "def augmentation(df, french_stopwords):\n",
    "    new_df_columns = {}\n",
    "\n",
    "    for col in df.columns:\n",
    "        new_column = list(df[col].dropna())  # Remove NaN values\n",
    "\n",
    "        # Split words by space\n",
    "        new_column_split = [conv.split() for conv in new_column]\n",
    "        new_column_split_joined = [item for lst in new_column_split for item in lst]\n",
    "        new_column.extend(new_column_split_joined)\n",
    "\n",
    "        # Remove French stopwords\n",
    "        new_column = [word for word in new_column if word.lower() not in french_stopwords]\n",
    "\n",
    "        # Handle hyphenated words\n",
    "        split = [sub.split(\"-\") for sub in new_column if '-' in sub]\n",
    "        new_subcat = [item for lst in split for item in lst]\n",
    "        new_column.extend(new_subcat)\n",
    "\n",
    "        # Lowercase transformation\n",
    "        new_column_lower = [word.lower() for word in new_column]\n",
    "        new_column.extend(new_column_lower)\n",
    "\n",
    "        # Remove stopwords again after modifications\n",
    "        new_column = [word for word in new_column if word.lower() not in french_stopwords]\n",
    "\n",
    "        # Convert to unique sorted list\n",
    "        new_column = sorted(set(new_column))\n",
    "\n",
    "        # Store results in dictionary (column_name: column_values)\n",
    "        new_df_columns[col] = new_column\n",
    "\n",
    "    # Make all columns the same length using zip_longest\n",
    "    max_length = max(len(v) for v in new_df_columns.values())\n",
    "    for col in new_df_columns:\n",
    "        new_df_columns[col] += [None] * (max_length - len(new_df_columns[col]))  # Padding with None\n",
    "\n",
    "    # Convert dictionary to DataFrame\n",
    "    new_df = pd.DataFrame(new_df_columns)\n",
    "\n",
    "    return new_df\n",
    "\n",
    "\n",
    "new_df = augmentation(df, french_stopwords)\n",
    "\n",
    "with pd.ExcelWriter(new_file_path, mode='a', if_sheet_exists='new', engine='openpyxl') as writer:\n",
    "    new_df.to_excel(writer, sheet_name='RACE', index=False)"
   ]
  },
  {
   "cell_type": "code",
   "execution_count": 17,
   "metadata": {},
   "outputs": [],
   "source": [
    "def clean_races_category(subcategory):\n",
    "    subcat = list(racial[subcategory].dropna())\n",
    "    subcat_lower = [sub.lower() for sub in subcat]\n",
    "    subcat.extend(subcat_lower)\n",
    "    split_subcat = [sub.split(\"-\") for sub in subcat if '-' in sub]\n",
    "    new_subcat = [item for lst in split_subcat for item in lst]\n",
    "    subcat.extend(new_subcat)\n",
    "    subcat = [re.sub(r'\\s*\\(.*?\\)', '', item) for item in subcat]\n",
    "    subcat = set(subcat)\n",
    "    print(len(subcat))\n",
    "    return subcat\n"
   ]
  },
  {
   "cell_type": "markdown",
   "metadata": {},
   "source": [
    "# RACES"
   ]
  },
  {
   "cell_type": "code",
   "execution_count": 18,
   "metadata": {},
   "outputs": [
    {
     "name": "stdout",
     "output_type": "stream",
     "text": [
      "543\n"
     ]
    }
   ],
   "source": [
    "races = clean_races_category('Race')"
   ]
  },
  {
   "cell_type": "markdown",
   "metadata": {},
   "source": [
    "# NATIONALITY"
   ]
  },
  {
   "cell_type": "code",
   "execution_count": 19,
   "metadata": {},
   "outputs": [
    {
     "name": "stdout",
     "output_type": "stream",
     "text": [
      "1295\n"
     ]
    }
   ],
   "source": [
    "nationalities = clean_races_category('Nationality')"
   ]
  },
  {
   "cell_type": "markdown",
   "metadata": {},
   "source": [
    "# REGIONAL"
   ]
  },
  {
   "cell_type": "code",
   "execution_count": 20,
   "metadata": {},
   "outputs": [
    {
     "name": "stdout",
     "output_type": "stream",
     "text": [
      "716\n"
     ]
    }
   ],
   "source": [
    "regional = clean_races_category('Regional')"
   ]
  },
  {
   "cell_type": "markdown",
   "metadata": {},
   "source": [
    "# LANGUAGE"
   ]
  },
  {
   "cell_type": "code",
   "execution_count": 21,
   "metadata": {},
   "outputs": [
    {
     "name": "stdout",
     "output_type": "stream",
     "text": [
      "107\n"
     ]
    }
   ],
   "source": [
    "languages = clean_races_category('Language & Dialect-Based Identity')"
   ]
  },
  {
   "cell_type": "markdown",
   "metadata": {},
   "source": [
    "# CULTURE"
   ]
  },
  {
   "cell_type": "code",
   "execution_count": 22,
   "metadata": {},
   "outputs": [
    {
     "name": "stdout",
     "output_type": "stream",
     "text": [
      "208\n"
     ]
    }
   ],
   "source": [
    "culture = clean_races_category('Cultural & Heritage-Based Identity')"
   ]
  },
  {
   "cell_type": "code",
   "execution_count": null,
   "metadata": {},
   "outputs": [],
   "source": []
  }
 ],
 "metadata": {
  "kernelspec": {
   "display_name": "Python 3",
   "language": "python",
   "name": "python3"
  },
  "language_info": {
   "codemirror_mode": {
    "name": "ipython",
    "version": 3
   },
   "file_extension": ".py",
   "mimetype": "text/x-python",
   "name": "python",
   "nbconvert_exporter": "python",
   "pygments_lexer": "ipython3",
   "version": "3.12.5"
  }
 },
 "nbformat": 4,
 "nbformat_minor": 2
}
