{
 "cells": [
  {
   "cell_type": "code",
   "execution_count": null,
   "metadata": {},
   "outputs": [],
   "source": [
    "import pandas as pd\n",
    "import spacy\n",
    "from itertools import zip_longest\n",
    "import re\n",
    "\n",
    "file_path = r\"C:\\Users\\spolo\\OneDrive\\Documents\\DOC\\Work\\TCS\\Code\\dynamic_data_masking\\presidio_ddm\\deny_list_dataset\\deny_list_tokens_ddm.xlsx\"\n",
    "new_file_path = r\"C:\\Users\\spolo\\OneDrive\\Documents\\DOC\\Work\\TCS\\Code\\dynamic_data_masking\\presidio_ddm\\deny_list_dataset\\deny_list_tokens_c4_v1.xlsx\"\n",
    "\n",
    "df = pd.read_excel(file_path, sheet_name=\"FAITH\")\n",
    "\n",
    "nlp = spacy.load(\"fr_core_news_lg\")\n",
    "french_stopwords = nlp.Defaults.stop_words"
   ]
  },
  {
   "cell_type": "markdown",
   "metadata": {},
   "source": [
    "# RELGION"
   ]
  },
  {
   "cell_type": "code",
   "execution_count": 2,
   "metadata": {},
   "outputs": [],
   "source": [
    "conviction = list(health[\"RELGION\"].dropna())\n",
    "conviction_split  = [conv.split() for conv in conviction]\n",
    "conviction_split_joined = [item for lst in conviction_split for item  in lst]\n",
    "conviction.extend(conviction_split_joined)\n",
    "\n",
    "conviction = [word for word in  conviction if word not in french_stopwords]\n",
    "split = [sub.split(\"-\") for sub in conviction if '-' in sub]\n",
    "new_subcat = [item for lst in split for item in lst]\n",
    "conviction.extend(new_subcat)\n",
    "\n",
    "conviction_lower = [word.lower() for word in conviction]\n",
    "conviction.extend(conviction_lower)\n",
    "\n",
    "conviction = [word for word in  conviction if word not in french_stopwords]\n",
    "conviction = set(conviction)\n"
   ]
  },
  {
   "cell_type": "markdown",
   "metadata": {},
   "source": [
    "# TEMPLE"
   ]
  },
  {
   "cell_type": "code",
   "execution_count": 4,
   "metadata": {},
   "outputs": [],
   "source": [
    "conviction = list(health[\"TEMPLE\"].dropna())\n",
    "conviction_split  = [conv.split() for conv in conviction]\n",
    "conviction_split_joined = [item for lst in conviction_split for item  in lst]\n",
    "conviction.extend(conviction_split_joined)\n",
    "\n",
    "conviction = [word for word in  conviction if word not in french_stopwords]\n",
    "split = [sub.split(\"-\") for sub in conviction if '-' in sub]\n",
    "new_subcat = [item for lst in split for item in lst]\n",
    "conviction.extend(new_subcat)\n",
    "\n",
    "conviction_lower = [word.lower() for word in conviction]\n",
    "conviction.extend(conviction_lower)\n",
    "\n",
    "conviction = [word for word in  conviction if word not in french_stopwords]\n",
    "conviction = set(conviction)\n"
   ]
  },
  {
   "cell_type": "markdown",
   "metadata": {},
   "source": [
    "# SACRED_TEXT"
   ]
  },
  {
   "cell_type": "code",
   "execution_count": null,
   "metadata": {},
   "outputs": [],
   "source": [
    "conviction = list(health[\"SACRED_TEXT\"].dropna())\n",
    "conviction_split  = [conv.split() for conv in conviction]\n",
    "conviction_split_joined = [item for lst in conviction_split for item  in lst]\n",
    "conviction.extend(conviction_split_joined)\n",
    "\n",
    "conviction = [word for word in  conviction if word not in french_stopwords]\n",
    "split = [sub.split(\"-\") for sub in conviction if '-' in sub]\n",
    "new_subcat = [item for lst in split for item in lst]\n",
    "conviction.extend(new_subcat)\n",
    "\n",
    "conviction_lower = [word.lower() for word in conviction]\n",
    "conviction.extend(conviction_lower)\n",
    "\n",
    "conviction = [word for word in  conviction if word not in french_stopwords]\n",
    "conviction = set(conviction)"
   ]
  },
  {
   "cell_type": "markdown",
   "metadata": {},
   "source": [
    "# HOLIDAYS"
   ]
  },
  {
   "cell_type": "code",
   "execution_count": 5,
   "metadata": {},
   "outputs": [],
   "source": [
    "conviction = list(health[\"HOLIDAYS\"].dropna())\n",
    "conviction_split  = [conv.split() for conv in conviction]\n",
    "conviction_split_joined = [item for lst in conviction_split for item  in lst]\n",
    "conviction.extend(conviction_split_joined)\n",
    "\n",
    "conviction = [word for word in  conviction if word not in french_stopwords]\n",
    "split = [sub.split(\"-\") for sub in conviction if '-' in sub]\n",
    "new_subcat = [item for lst in split for item in lst]\n",
    "conviction.extend(new_subcat)\n",
    "\n",
    "conviction_lower = [word.lower() for word in conviction]\n",
    "conviction.extend(conviction_lower)\n",
    "\n",
    "conviction = [word for word in  conviction if word not in french_stopwords]\n",
    "conviction = set(conviction)"
   ]
  },
  {
   "cell_type": "code",
   "execution_count": null,
   "metadata": {},
   "outputs": [],
   "source": []
  }
 ],
 "metadata": {
  "kernelspec": {
   "display_name": "Python 3",
   "language": "python",
   "name": "python3"
  },
  "language_info": {
   "codemirror_mode": {
    "name": "ipython",
    "version": 3
   },
   "file_extension": ".py",
   "mimetype": "text/x-python",
   "name": "python",
   "nbconvert_exporter": "python",
   "pygments_lexer": "ipython3",
   "version": "3.12.5"
  }
 },
 "nbformat": 4,
 "nbformat_minor": 2
}
