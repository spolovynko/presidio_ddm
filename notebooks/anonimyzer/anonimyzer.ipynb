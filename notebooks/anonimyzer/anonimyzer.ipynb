{
 "cells": [
  {
   "cell_type": "code",
   "execution_count": 1,
   "metadata": {},
   "outputs": [
    {
     "name": "stdout",
     "output_type": "stream",
     "text": [
      "My name is <NAME> and my phone number is <UK_NHS>.\n",
      "My name is <PERSON> and my phone number is <UK_NHS>.\n"
     ]
    }
   ],
   "source": [
    "from presidio_analyzer import AnalyzerEngine\n",
    "from presidio_anonymizer import AnonymizerEngine\n",
    "from presidio_anonymizer.entities import OperatorConfig\n",
    "\n",
    "# Initialize the analyzer and anonymizer engines\n",
    "analyzer = AnalyzerEngine()\n",
    "anonymizer = AnonymizerEngine()\n",
    "\n",
    "# Input text\n",
    "text = \"My name is John Doe and my phone number is 555-555-5555.\"\n",
    "\n",
    "# Analyze the text to detect PII entities\n",
    "analyzer_results = analyzer.analyze(text=text, language=\"en\")\n",
    "\n",
    "# Define operators for anonymization\n",
    "operators = {\n",
    "    \"PERSON\": OperatorConfig(\"replace\", {\"new_value\": \"<NAME>\"}),\n",
    "    # \"PHONE_NUMBER\": OperatorConfig(\"redact\")\n",
    "}\n",
    "\n",
    "# Anonymize the text\n",
    "anonymized_result = anonymizer.anonymize(\n",
    "    text=text,\n",
    "    analyzer_results=analyzer_results,\n",
    "    operators=operators\n",
    ")\n",
    "\n",
    "# Output the anonymized text\n",
    "print(anonymized_result.text)\n",
    "\n",
    "anonymized_result = anonymizer.anonymize(\n",
    "    text=text,\n",
    "    analyzer_results=analyzer_results,\n",
    "    # operators=operators\n",
    ")\n",
    "\n",
    "print(anonymized_result.text)"
   ]
  },
  {
   "cell_type": "code",
   "execution_count": 2,
   "metadata": {},
   "outputs": [
    {
     "data": {
      "text/plain": [
       "[type: UK_NHS, start: 43, end: 55, score: 1.0,\n",
       " type: PERSON, start: 11, end: 19, score: 0.85,\n",
       " type: PHONE_NUMBER, start: 43, end: 55, score: 0.75]"
      ]
     },
     "execution_count": 2,
     "metadata": {},
     "output_type": "execute_result"
    }
   ],
   "source": [
    "analyzer_results"
   ]
  },
  {
   "cell_type": "code",
   "execution_count": null,
   "metadata": {},
   "outputs": [],
   "source": []
  }
 ],
 "metadata": {
  "kernelspec": {
   "display_name": "Python 3",
   "language": "python",
   "name": "python3"
  },
  "language_info": {
   "codemirror_mode": {
    "name": "ipython",
    "version": 3
   },
   "file_extension": ".py",
   "mimetype": "text/x-python",
   "name": "python",
   "nbconvert_exporter": "python",
   "pygments_lexer": "ipython3",
   "version": "3.12.5"
  }
 },
 "nbformat": 4,
 "nbformat_minor": 2
}
