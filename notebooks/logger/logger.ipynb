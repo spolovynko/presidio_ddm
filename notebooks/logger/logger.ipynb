{
 "cells": [
  {
   "cell_type": "code",
   "execution_count": 5,
   "metadata": {},
   "outputs": [
    {
     "name": "stderr",
     "output_type": "stream",
     "text": [
      "2025-04-02 07:08:38,111 - INFO - Pipeline started\n",
      "2025-04-02 07:08:38,111 - INFO - Pipeline started\n",
      "2025-04-02 07:08:38,111 - INFO - Pipeline started\n",
      "2025-04-02 07:08:38,111 - INFO - Pipeline started\n",
      "2025-04-02 07:08:38,115 - WARNING - Missing values found\n",
      "2025-04-02 07:08:38,115 - WARNING - Missing values found\n",
      "2025-04-02 07:08:38,115 - WARNING - Missing values found\n",
      "2025-04-02 07:08:38,115 - WARNING - Missing values found\n",
      "2025-04-02 07:08:38,119 - ERROR - Failed to connect to database\n",
      "2025-04-02 07:08:38,119 - ERROR - Failed to connect to database\n",
      "2025-04-02 07:08:38,119 - ERROR - Failed to connect to database\n",
      "2025-04-02 07:08:38,119 - ERROR - Failed to connect to database\n",
      "2025-04-02 07:08:38,121 - CRITICAL - Pipeline crashed due to XYZ\n",
      "2025-04-02 07:08:38,121 - CRITICAL - Pipeline crashed due to XYZ\n",
      "2025-04-02 07:08:38,121 - CRITICAL - Pipeline crashed due to XYZ\n",
      "2025-04-02 07:08:38,121 - CRITICAL - Pipeline crashed due to XYZ\n"
     ]
    }
   ],
   "source": [
    "import logging\n",
    "\n",
    "# Create logger\n",
    "logger = logging.getLogger(\"pipeline_logger\")\n",
    "logger.setLevel(logging.DEBUG)  # Set lowest level to capture everything\n",
    "\n",
    "# Create handlers\n",
    "console_handler = logging.StreamHandler()\n",
    "file_handler = logging.FileHandler(\"pipeline.log\")\n",
    "\n",
    "# Set levels for handlers\n",
    "console_handler.setLevel(logging.INFO)\n",
    "file_handler.setLevel(logging.DEBUG)\n",
    "\n",
    "# Create formatter and add to handlers\n",
    "formatter = logging.Formatter('%(asctime)s - %(levelname)s - %(message)s')\n",
    "console_handler.setFormatter(formatter)\n",
    "file_handler.setFormatter(formatter)\n",
    "\n",
    "# Add handlers to logger\n",
    "logger.addHandler(console_handler)\n",
    "logger.addHandler(file_handler)\n",
    "\n",
    "# Example usage\n",
    "logger.info(\"Pipeline started\")\n",
    "logger.debug(\"Loading data from source A\")\n",
    "logger.warning(\"Missing values found\")\n",
    "logger.error(\"Failed to connect to database\")\n",
    "logger.critical(\"Pipeline crashed due to XYZ\")\n"
   ]
  },
  {
   "cell_type": "code",
   "execution_count": 4,
   "metadata": {},
   "outputs": [
    {
     "ename": "SyntaxError",
     "evalue": "invalid syntax (525519296.py, line 1)",
     "output_type": "error",
     "traceback": [
      "\u001b[1;36m  Cell \u001b[1;32mIn[4], line 1\u001b[1;36m\u001b[0m\n\u001b[1;33m    |\u001b[0m\n\u001b[1;37m    ^\u001b[0m\n\u001b[1;31mSyntaxError\u001b[0m\u001b[1;31m:\u001b[0m invalid syntax\n"
     ]
    }
   ],
   "source": [
    "|"
   ]
  },
  {
   "cell_type": "code",
   "execution_count": null,
   "metadata": {},
   "outputs": [],
   "source": []
  }
 ],
 "metadata": {
  "kernelspec": {
   "display_name": "Python 3",
   "language": "python",
   "name": "python3"
  },
  "language_info": {
   "codemirror_mode": {
    "name": "ipython",
    "version": 3
   },
   "file_extension": ".py",
   "mimetype": "text/x-python",
   "name": "python",
   "nbconvert_exporter": "python",
   "pygments_lexer": "ipython3",
   "version": "3.12.5"
  }
 },
 "nbformat": 4,
 "nbformat_minor": 2
}
