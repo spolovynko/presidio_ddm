{
 "cells": [
  {
   "cell_type": "markdown",
   "metadata": {},
   "source": [
    "# PYPD2IMAGE"
   ]
  },
  {
   "cell_type": "code",
   "execution_count": 3,
   "metadata": {},
   "outputs": [
    {
     "name": "stderr",
     "output_type": "stream",
     "text": [
      "C:\\Users\\spolo\\AppData\\Roaming\\Python\\Python312\\site-packages\\PIL\\Image.py:3402: DecompressionBombWarning: Image size (128278739 pixels) exceeds limit of 89478485 pixels, could be decompression bomb DOS attack.\n",
      "  warnings.warn(\n"
     ]
    },
    {
     "name": "stdout",
     "output_type": "stream",
     "text": [
      "[<PIL.PpmImagePlugin.PpmImageFile image mode=RGB size=9817x13067 at 0x244F6882960>]\n"
     ]
    }
   ],
   "source": [
    "import pytesseract\n",
    "from pytesseract import Output\n",
    "from pdf2image import convert_from_path\n",
    "from PIL import Image\n",
    "from lxml import etree\n",
    "import pandas as pd\n",
    "# import ace_tools as tools\n",
    "\n",
    "# Path to your PDF file\n",
    "pdf_path = r\"C:\\Users\\spolo\\OneDrive\\Documents\\DOC\\Work\\TCS\\Code\\dynamic_data_masking\\ddm\\pdf_files\\sample_sensitive_pdf.pdf\"\n",
    "\n",
    "# Convert PDF to images (first page only for this demo)\n",
    "images = convert_from_path(pdf_path, dpi=300)\n",
    "\n",
    "print(images)\n",
    "for image in images:\n",
    "    ocr_data = pytesseract.image_to_data(image, output_type=Output.DICT)\n",
    "    text = pytesseract.image_to_string(image)\n",
    "\n",
    "\n",
    "# ocr_data\n",
    "# text"
   ]
  },
  {
   "cell_type": "code",
   "execution_count": 6,
   "metadata": {},
   "outputs": [
    {
     "data": {
      "text/plain": [
       "dict_keys(['level', 'page_num', 'block_num', 'par_num', 'line_num', 'word_num', 'left', 'top', 'width', 'height', 'conf', 'text'])"
      ]
     },
     "execution_count": 6,
     "metadata": {},
     "output_type": "execute_result"
    }
   ],
   "source": [
    "ocr_data.keys()"
   ]
  },
  {
   "cell_type": "markdown",
   "metadata": {},
   "source": [
    "# PDFPLUMBER"
   ]
  },
  {
   "cell_type": "code",
   "execution_count": null,
   "metadata": {},
   "outputs": [
    {
     "name": "stdout",
     "output_type": "stream",
     "text": [
      "<PIL.Image.Image image mode=RGB size=16362x21778 at 0x244F532ACF0>\n",
      "<class 'PIL.Image.Image'>\n"
     ]
    },
    {
     "data": {
      "text/plain": [
       "'Hello, my name is John Doe.\\n\\nYou can reach me at john.doe @example.com or at my phone number +1-555-123-4567.\\n\\nMy credit card number is 4111-1111-1111-1111 and my home address is 1234 Elm Street,\\nSpringfield.\\n| have diabetes, and asthma. | vote for Democratic party and | am ecologist.\\n\\nBest regards, John.\\n'"
      ]
     },
     "execution_count": 7,
     "metadata": {},
     "output_type": "execute_result"
    }
   ],
   "source": [
    "import pdfplumber\n",
    "import pytesseract\n",
    "from PIL import Image\n",
    "import pandas as pd\n",
    "# import ace_tools as tools\n",
    "\n",
    "# Path to the scanned PDF\n",
    "pdf_path = r\"C:\\Users\\spolo\\OneDrive\\Documents\\DOC\\Work\\TCS\\Code\\dynamic_data_masking\\ddm\\pdf_files\\sample_sensitive_pdf.pdf\"\n",
    "\n",
    "# Open the PDF with pdfplumber\n",
    "with pdfplumber.open(pdf_path) as pdf:\n",
    "    for i, page in enumerate(pdf.pages):\n",
    "        image = page.to_image(resolution=500).original\n",
    "        \n",
    "        print(image)\n",
    "        print(type(image))\n",
    "        # img = Image.open(image)\n",
    "        custom_confg = r'--oem 3 --psm 6'\n",
    "        ocr_data = pytesseract.image_to_data(image, output_type=Output.DICT, lang='eng')\n",
    "        text = pytesseract.image_to_string(image, config=custom_confg, lang='eng')\n",
    "\n",
    "\n",
    "\n"
   ]
  },
  {
   "cell_type": "code",
   "execution_count": null,
   "metadata": {},
   "outputs": [
    {
     "name": "stdout",
     "output_type": "stream",
     "text": [
      "Hello, my name is John Doe.\n",
      "\n",
      "You can reach me at john.doe @example.com or at my phone number +1-555-123-4567.\n",
      "\n",
      "My credit card number is 4111-1111-1111-1111 and my home address is 1234 Elm Street,\n",
      "Springfield.\n",
      "| have diabetes, and asthma. | vote for Democratic party and | am ecologist.\n",
      "\n",
      "Best regards, John.\n",
      "\n"
     ]
    },
    {
     "ename": "NameError",
     "evalue": "name 'pd' is not defined",
     "output_type": "error",
     "traceback": [
      "\u001b[1;31m---------------------------------------------------------------------------\u001b[0m",
      "\u001b[1;31mNameError\u001b[0m                                 Traceback (most recent call last)",
      "Cell \u001b[1;32mIn[1], line 49\u001b[0m\n\u001b[0;32m     47\u001b[0m \u001b[38;5;66;03m# Print or save the extracted data\u001b[39;00m\n\u001b[0;32m     48\u001b[0m \u001b[38;5;28mprint\u001b[39m(all_text)\n\u001b[1;32m---> 49\u001b[0m df \u001b[38;5;241m=\u001b[39m \u001b[43mpd\u001b[49m\u001b[38;5;241m.\u001b[39mDataFrame(all_ocr_data)\n\u001b[0;32m     50\u001b[0m \u001b[38;5;28mprint\u001b[39m(df\u001b[38;5;241m.\u001b[39mhead())  \u001b[38;5;66;03m# Display first few rows of OCR data\u001b[39;00m\n",
      "\u001b[1;31mNameError\u001b[0m: name 'pd' is not defined"
     ]
    }
   ],
   "source": [
    "import pdfplumber\n",
    "import pytesseract\n",
    "from pytesseract import Output\n",
    "from PIL import Image\n",
    "\n",
    "# Path to the scanned PDF\n",
    "pdf_path = r\"C:\\Users\\spolo\\OneDrive\\Documents\\DOC\\Work\\TCS\\Code\\dynamic_data_masking\\ddm\\pdf_files\\sample_sensitive_pdf.pdf\"\n",
    "\n",
    "# Initialize variables to store all text and OCR data\n",
    "all_text = \"\"\n",
    "all_ocr_data = {\n",
    "    \"level\": [],\n",
    "    \"page_num\": [],\n",
    "    \"block_num\": [],\n",
    "    \"par_num\": [],\n",
    "    \"line_num\": [],\n",
    "    \"word_num\": [],\n",
    "    \"left\": [],\n",
    "    \"top\": [],\n",
    "    \"width\": [],\n",
    "    \"height\": [],\n",
    "    \"conf\": [],\n",
    "    \"text\": []\n",
    "}\n",
    "\n",
    "custom_config = r'--oem 3 --psm 6'\n",
    "\n",
    "# Open the PDF with pdfplumber\n",
    "with pdfplumber.open(pdf_path) as pdf:\n",
    "    for i, page in enumerate(pdf.pages, start=1):\n",
    "        image = page.to_image(resolution=500).original\n",
    "        \n",
    "        # Extract text\n",
    "        page_text = pytesseract.image_to_string(image, config=custom_config, lang='eng')\n",
    "        all_text += all_text + page_text\n",
    "\n",
    "        # Extract OCR data\n",
    "        ocr_data = pytesseract.image_to_data(image, output_type=Output.DICT, lang='eng')\n",
    "\n",
    "        # Append data with page numbers\n",
    "        for key in all_ocr_data.keys():\n",
    "            if key == \"page_num\":\n",
    "                all_ocr_data[key].extend([i] * len(ocr_data[\"text\"]))  # Assign page number to each word\n",
    "            else:\n",
    "                all_ocr_data[key].extend(ocr_data[key])\n",
    "\n",
    "# Print or save the extracted data\n",
    "print(all_text)\n",
    "\n"
   ]
  },
  {
   "cell_type": "code",
   "execution_count": 5,
   "metadata": {},
   "outputs": [
    {
     "name": "stdout",
     "output_type": "stream",
     "text": [
      "Hello, my name is John Doe.\n",
      "\n",
      "You can reach me at john.doe @example.com or at my phone number +1-555-123-4567.\n",
      "\n",
      "My credit card number is 4111-1111-1111-1111 and my home address is 1234 Elm Street,\n",
      "Springfield.\n",
      "| have diabetes, and asthma. | vote for Democratic party and | am ecologist.\n",
      "\n",
      "Best regards, John.\n",
      "\n"
     ]
    }
   ],
   "source": [
    "print(all_text)"
   ]
  },
  {
   "cell_type": "code",
   "execution_count": null,
   "metadata": {},
   "outputs": [],
   "source": []
  }
 ],
 "metadata": {
  "kernelspec": {
   "display_name": "Python 3",
   "language": "python",
   "name": "python3"
  },
  "language_info": {
   "codemirror_mode": {
    "name": "ipython",
    "version": 3
   },
   "file_extension": ".py",
   "mimetype": "text/x-python",
   "name": "python",
   "nbconvert_exporter": "python",
   "pygments_lexer": "ipython3",
   "version": "3.12.5"
  }
 },
 "nbformat": 4,
 "nbformat_minor": 2
}
